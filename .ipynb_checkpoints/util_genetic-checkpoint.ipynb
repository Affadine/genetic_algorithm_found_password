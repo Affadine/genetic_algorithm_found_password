{
 "cells": [
  {
   "cell_type": "code",
   "execution_count": 1,
   "metadata": {},
   "outputs": [
    {
     "name": "stdout",
     "output_type": "stream",
     "text": [
      "importing Jupyter notebook from util.ipynb\n"
     ]
    }
   ],
   "source": [
    "import import_ipynb\n",
    "import random\n",
    "from random import randrange\n",
    "import statistics \n",
    "from util import *\n",
    "\n",
    "GENES = \"ABCDEFGHIJKLMNOPQRSTUVWXYZ1234567890\"\n",
    "\n",
    "LINEAR_PROBA = 'p_linear'\n",
    "FITNESS_PROBA = 'p_fitness'\n",
    "FITNESS2_PROBA = 'p_fitness2'\n"
   ]
  },
  {
   "cell_type": "code",
   "execution_count": 2,
   "metadata": {},
   "outputs": [],
   "source": [
    "\"\"\"\n",
    "    Génère un individus à partir du choix aléatoire de chaque gène\n",
    "    Le nombre de genes est passé en paramètre\n",
    "\"\"\"\n",
    "\n",
    "def generatePerson(size):\n",
    "    return [random.choice(GENES) for i in range(size)]"
   ]
  },
  {
   "cell_type": "code",
   "execution_count": 3,
   "metadata": {},
   "outputs": [],
   "source": [
    "\"\"\" Génère une population d'individus \n",
    "  Le nombre d'individus à générer est passé en paramètre\n",
    "\"\"\"\n",
    "\n",
    "def generate_population(nbPersons):\n",
    "    return [generatePerson(randrange(12,19)) for i in range(nbPersons)]\n",
    "\n"
   ]
  },
  {
   "cell_type": "code",
   "execution_count": 4,
   "metadata": {},
   "outputs": [],
   "source": [
    "\"\"\" Applique une mutation de géne sur un enfant \"\"\"\n",
    "\n",
    "def child_mutation(child, prop_mutee = 1/ 100):\n",
    "    mutationNB = 1 #randrange(len(child))\n",
    "    if random.random() < prop_mutee:\n",
    "        #child1 = toStr(child)\n",
    "        for idx in range(mutationNB):\n",
    "            indexGene = randrange(len(child))\n",
    "            child[indexGene] = random.choice(GENES)\n",
    "    return child\n"
   ]
  },
  {
   "cell_type": "code",
   "execution_count": 5,
   "metadata": {},
   "outputs": [],
   "source": [
    "\"\"\"\n",
    "    Ajout ou suppression aléatoire d'un géne\n",
    "    On s'assure que l'on a bien entre 12 et 18 genes\n",
    "\"\"\"\n",
    "def child_add_remove_gene(child, prob_add_gene = 1/100, prob_remove_gene = 1/100):    \n",
    "    if(len(child)<18):\n",
    "        if(random.random()<prob_add_gene):\n",
    "            # Ajouter un gene\n",
    "            gene = random.choice(GENES)\n",
    "            indexGene = randrange(len(child))\n",
    "            child.insert(indexGene, gene)\n",
    "    if(len(child)>12):\n",
    "        if(random.random()<prob_remove_gene):\n",
    "            # Retirer un gene\n",
    "            indexGene = randrange(len(child))\n",
    "            child.remove(random.choice(child))\n",
    "    return child"
   ]
  },
  {
   "cell_type": "code",
   "execution_count": 6,
   "metadata": {},
   "outputs": [],
   "source": [
    "\"\"\"\n",
    "    Création d'un enfant à partir de deux parents\n",
    "    Crée l'enfant\n",
    "        - Soit on croise les caractéristiques des deux parent\n",
    "        - soit on part d'un des deux parents au hasaard\n",
    "    Par la suite\n",
    "        - on applique une mutation de gene sur l'enfant généré (un gene au hasard)\n",
    "        - on applique retire ou ajoute un géne\n",
    "    \n",
    "    \n",
    "\"\"\"\n",
    "def generate_child(father, mother, prob_corssover, prob_muataion, prob_add_gene, prob_remove_gene):\n",
    "    child = None\n",
    "    # Copie des contenus des deux parent (pour ne pas affecter le contenu des parents)\n",
    "    c_father = father.copy()\n",
    "    c_mother = mother.copy()\n",
    "    # Décider si on applique un croisement ou pas (tirage au sort en utilisant la prbabilité de croisement)\n",
    "    if(random.random() <= prob_corssover):\n",
    "        #Le nombre de gènes du père sera égal à la longueur du code secret divisé par deux\n",
    "        nombreGenesPere = len(c_father)//2\n",
    "        #Le nombre de gènes de la mère sera égal à la longueur du mot - le nombre de gène du père\n",
    "        nombreGenesMere = len(c_mother)//2\n",
    "        #print(\"nb gene :\",nombreGenesPere +nombreGenesMere)        \n",
    "        child = c_father[:nombreGenesPere] + c_mother[nombreGenesMere:]\n",
    "    else:\n",
    "        # Choisir aléatoirement entre le pere et la mere\n",
    "        parents = [c_father, c_mother]\n",
    "        child = random.choice(parents)\n",
    "    #print(\"generate_child step1\", toStr(child))\n",
    "    # Appliquer une mutation de gene (avec la probabilité associée)\n",
    "    child = child_mutation(child, prob_muataion)\n",
    "    # Appliquer un ajout et suppression de gene (avec la probabilité associée)\n",
    "    child = child_add_remove_gene(child, prob_add_gene, prob_remove_gene)\n",
    "    return child\n",
    "\n"
   ]
  },
  {
   "cell_type": "code",
   "execution_count": 7,
   "metadata": {},
   "outputs": [],
   "source": [
    "\n",
    "\"\"\"\n",
    "    Fonction d'évaluation de la population\n",
    "\"\"\"\n",
    "def evaluate_population(student_id, population):    \n",
    "    #print(\"evaluation\",population)\n",
    "    listPasswords = []\n",
    "    for individu in population:\n",
    "        nextPass = \"\".join(individu)\n",
    "        listPasswords.append(nextPass)\n",
    "    # Evaluation de l'ensemble des mots de passe générés\n",
    "    result = check(student_id , listPasswords)\n",
    "    #print(\"evaluation\", result)\n",
    "    idx = 0\n",
    "    list_evaluation = []\n",
    "    for person in population:\n",
    "        newEvaluation = {\"person\":person, \"score\":result[idx],  \"score2\":result[idx]*result[idx], \"rank\":0.0, \"p_fitness\":0.0, \"p_linear\":0.0, \"rank_score\":0}\n",
    "        #print(item2)\n",
    "        #list_evaluation.append((person, result[idx]))\n",
    "        list_evaluation.append(newEvaluation)\n",
    "        idx+=1\n",
    "    # Trier les tuples(élement,score) par score décroissant\n",
    "    sorted_evaluations = sorted(list_evaluation, key=lambda tuple:-1*tuple['score'])\n",
    "    \n",
    "    # Déterminer le rang\n",
    "    rank = 1\n",
    "    rank_score = len(sorted_evaluations)\n",
    "    sum_score  = 0\n",
    "    sum_score2  = 0\n",
    "    sum_score_score = 0\n",
    "    for evaluation in sorted_evaluations:\n",
    "        evaluation[\"rank\"] = rank\n",
    "        evaluation[\"rank_score\"]= rank_score\n",
    "        rank+=1\n",
    "        rank_score-=1\n",
    "        sum_score+=evaluation[\"score\"]\n",
    "        sum_score2+=evaluation[\"score2\"]\n",
    "        sum_score_score+=evaluation[\"rank_score\"]\n",
    "\n",
    "    # Calcul des probas : fitness et linéaire\n",
    "    for evaluation in sorted_evaluations:\n",
    "        evaluation[\"p_linear\"] = 1*evaluation[\"rank_score\"]/sum_score_score\n",
    "        evaluation[\"p_fitness\"] = 1*evaluation[\"score\"]/sum_score\n",
    "        evaluation[\"p_fitness2\"] = 1*evaluation[\"score2\"]/sum_score2\n",
    "\n",
    "    #print(\"evaluate_population\", sorted_evaluations[0:3])\n",
    "    return sorted_evaluations\n"
   ]
  },
  {
   "cell_type": "code",
   "execution_count": 8,
   "metadata": {},
   "outputs": [],
   "source": [
    "\"\"\"\n",
    "    Tirage aléatoire d'un individu\n",
    "\"\"\"\n",
    "def chose_random_index(list_proba):\n",
    "    #print(\"chose_one_person proba :\", individus_proba, sum(individus_proba))\n",
    "    # Tirage aléatoire\n",
    "    random1 = random.random()    \n",
    "    sumProba = 0\n",
    "    index = 0\n",
    "    for proba in list_proba:\n",
    "        sumProba = sumProba + proba\n",
    "        if(sumProba > random1 ):\n",
    "            return index\n",
    "        index+=1\n",
    "    return (index-1)\n"
   ]
  },
  {
   "cell_type": "code",
   "execution_count": 9,
   "metadata": {},
   "outputs": [],
   "source": [
    "\"\"\"\n",
    "    Tirage aléatoire d'un couple d'individus\n",
    "    \n",
    "\"\"\"\n",
    "\n",
    "def chose_random_pair(list_evaluation, list_proba):\n",
    "    # Choisir un 1er parent\n",
    "    index1 = chose_random_index( list_proba)\n",
    "    parent1 =  (list_evaluation[index1])['person']\n",
    "\n",
    "    # Choisir un 2e parent\n",
    "    index2 = chose_random_index( list_proba)\n",
    "    parent2 =  (list_evaluation[index2])['person']\n",
    "    return (parent1,parent2)\n"
   ]
  },
  {
   "cell_type": "code",
   "execution_count": 10,
   "metadata": {
    "scrolled": false
   },
   "outputs": [],
   "source": [
    "\"\"\"\n",
    "    Génération d'une liste d'enfant pour créer une nouvelle génératin\n",
    "    On donne en parametre le nombre d'enfant à créer\n",
    "    Paramètres\n",
    "         list_evaluation : liste des évaluation d'individus\n",
    "         nb_children : nombre d'enfant à générer\n",
    "         prob_corssover : probabilité de coisement\n",
    "         prob_muataion : probablilité de croisement\n",
    "         prob_add_gene : probabilité d'ajout de gene\n",
    "         prob_remove_gene : probabilité de suppression de gene\n",
    "\"\"\"\n",
    "def generate_children(list_evaluation, nb_children, prob_corssover, prob_muataion, prob_add_gene, prob_remove_gene, used_proba):\n",
    "    list_proba = []\n",
    "    children = []    \n",
    "    # Récupérer les probabilité de chaque individu pour le tirage aléatoire\n",
    "    for evaluation in list_evaluation :\n",
    "        list_proba.append(evaluation[used_proba])\n",
    "    # Initialisation de la liste d'enfant à retourner\n",
    "    children = []\n",
    "    for x in range(nb_children):\n",
    "        # Choix aléatoire d'un couple de deux parent\n",
    "        (parent1,parent2) = chose_random_pair(list_evaluation, list_proba)\n",
    "        # Générer un enfant à partir des deux parent choisis\n",
    "        new_child = generate_child(parent1, parent2, prob_corssover, prob_muataion, prob_add_gene, prob_remove_gene)\n",
    "        # Ajouter l'enfant généré\n",
    "        children.append(new_child)\n",
    "        #print(\"generate_children\", toStr(parent1), toStr(parent2), '->', toStr(new_child))\n",
    "\n",
    "    #print(\"selection parents2 \", len(selected_elts), selected_elts)\n",
    "    # Retour de la liste d'enfants\n",
    "    return children\n"
   ]
  },
  {
   "cell_type": "markdown",
   "metadata": {},
   "source": []
  }
 ],
 "metadata": {
  "kernelspec": {
   "display_name": "Python 3",
   "language": "python",
   "name": "python3"
  },
  "language_info": {
   "codemirror_mode": {
    "name": "ipython",
    "version": 3
   },
   "file_extension": ".py",
   "mimetype": "text/x-python",
   "name": "python",
   "nbconvert_exporter": "python",
   "pygments_lexer": "ipython3",
   "version": "3.8.5"
  }
 },
 "nbformat": 4,
 "nbformat_minor": 4
}

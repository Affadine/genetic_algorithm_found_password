{
 "cells": [
  {
   "cell_type": "code",
   "execution_count": 1,
   "metadata": {},
   "outputs": [],
   "source": [
    "import subprocess\n",
    "#import itertools\n",
    "#import random\n",
    "#from random import randrange\n",
    "import statistics \n",
    "import matplotlib.pyplot as plt\n",
    "\n",
    "\n"
   ]
  },
  {
   "cell_type": "code",
   "execution_count": 2,
   "metadata": {},
   "outputs": [],
   "source": [
    "\"\"\"\n",
    "    Evaluation d'une liste d'individus (mots de passe)\n",
    "\"\"\"\n",
    "def check(student_id , passwords) :\n",
    "    proc = subprocess.Popen([\"./unlock64\", str(student_id)] + passwords , stdout = subprocess.PIPE)\n",
    "    results = []\n",
    "    while True :\n",
    "        line = proc.stdout.readline()\n",
    "        if not line :\n",
    "            break\n",
    "        results.append(float(str(line).split(\"\\\\t\")[1].split(\"\\\\r\\\\n\")[0]))\n",
    "    return results\n",
    "    "
   ]
  },
  {
   "cell_type": "code",
   "execution_count": 3,
   "metadata": {},
   "outputs": [],
   "source": [
    "def toStr(person):\n",
    "    length = len(person)\n",
    "    return \"\".join(person) + \" [\" + str(length) + \"]\"\n",
    "\n"
   ]
  },
  {
   "cell_type": "code",
   "execution_count": 4,
   "metadata": {},
   "outputs": [],
   "source": [
    "def evalToStr(evaluation):\n",
    "    return toStr(evaluation['person'])+ \":\" + str(evaluation['score'])\n"
   ]
  },
  {
   "cell_type": "code",
   "execution_count": 5,
   "metadata": {},
   "outputs": [],
   "source": [
    "\"\"\"\n",
    "    Trace l'ensemble des individus avec son évalation\n",
    "\n",
    "\"\"\"\n",
    "def log_list_evaluation(list_evaluation):\n",
    "    print(\"### log_population\")\n",
    "    #print('log_population individus_score', list_evaluation)\n",
    "    idx=0\n",
    "    for evaluation in list_evaluation:\n",
    "        #print(\"log_population : individus_score\",individu )\n",
    "        print(evalToStr(evaluation))\n",
    "\n",
    " \n"
   ]
  },
  {
   "cell_type": "code",
   "execution_count": 6,
   "metadata": {},
   "outputs": [],
   "source": [
    "       \n",
    "\"\"\"\n",
    "  retourne le max et la moyenne des score\n",
    "\"\"\" \n",
    "def compute_global_score(list_evaluation):\n",
    "    # Extraire les scores\n",
    "    individus_score = []\n",
    "    for evaluation in list_evaluation :\n",
    "        individus_score.append(evaluation['score'])\n",
    "    current_max,current_avg = (max(individus_score), statistics.mean(individus_score))\n",
    "    return (current_max,current_avg)\n"
   ]
  },
  {
   "cell_type": "code",
   "execution_count": 7,
   "metadata": {
    "scrolled": false
   },
   "outputs": [],
   "source": [
    "\"\"\"\n",
    "    Affichage sur une courbe de l'historique des valeurs obtenues\n",
    "    \n",
    "\"\"\"\n",
    "def display_history(score_history\n",
    "                ,NB_PERSONS,ELITISM_RATE\n",
    "                ,USED_PROBA\n",
    "                ,PROBA_CROSSOVER\n",
    "                ,PROBA_MUTATION\n",
    "                ,PROBA_ADD_GENE\n",
    "                ,PROBA_REMOVE_GENE):\n",
    "    # Affichage de l'évolution du score sur une graphe\n",
    "    xVal,yMax,yAvg=([],[],[])\n",
    "    yMax1,yAvg1=(0,0)\n",
    "    idx=1\n",
    "    for max_avg in score_history:\n",
    "        xVal.append(idx)\n",
    "        yMax.append(max_avg[0])\n",
    "        yAvg.append(max_avg[1])\n",
    "        if(idx==1):\n",
    "            yMax1,yAvg1=max_avg[0],max_avg[1]\n",
    "        idx+=1\n",
    "    #print(xVal,yMax,yAvg)\n",
    "    plt.figure(figsize=(20, 15))\n",
    "    plt.plot(xVal, yMax, 'r')\n",
    "    plt.plot(xVal, yAvg, 'g')\n",
    "    plt.xlabel('#Génération')\n",
    "    #plt.ylabel('max',  color='r')\n",
    "    #plt.ylabel('moyenne',  color='g')\n",
    "    plt.text(2, yMax1, r'max', {'color': 'r', 'fontsize': 10, 'rotation':0})\n",
    "    plt.text(2, yAvg1, r'moyenne', {'color': 'g', 'fontsize': 10, 'rotation':0})\n",
    "    plt.title('Evolution du score : population :' + str(NB_PERSONS) \n",
    "              + ', tx élitisme ' + str(ELITISM_RATE) \n",
    "              + ', prb utilisée : ' + str(USED_PROBA)\n",
    "              + ', prb coisement ' + str(PROBA_CROSSOVER) \n",
    "              + ', prb mutation ' + str(PROBA_MUTATION) \n",
    "              + ', prb ajout gene ' + str(PROBA_ADD_GENE) \n",
    "              + ', prb supp. gene ' + str(PROBA_REMOVE_GENE) \n",
    "             )\n",
    "    plt.show()"
   ]
  },
  {
   "cell_type": "markdown",
   "metadata": {},
   "source": []
  }
 ],
 "metadata": {
  "kernelspec": {
   "display_name": "Python 3",
   "language": "python",
   "name": "python3"
  },
  "language_info": {
   "codemirror_mode": {
    "name": "ipython",
    "version": 3
   },
   "file_extension": ".py",
   "mimetype": "text/x-python",
   "name": "python",
   "nbconvert_exporter": "python",
   "pygments_lexer": "ipython3",
   "version": "3.8.5"
  }
 },
 "nbformat": 4,
 "nbformat_minor": 4
}

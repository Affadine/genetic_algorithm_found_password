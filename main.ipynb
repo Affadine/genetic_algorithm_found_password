{
 "cells": [
  {
   "cell_type": "code",
   "execution_count": 1,
   "metadata": {
    "scrolled": true
   },
   "outputs": [
    {
     "name": "stdout",
     "output_type": "stream",
     "text": [
      "importing Jupyter notebook from util.ipynb\n",
      "importing Jupyter notebook from util_genetic.ipynb\n"
     ]
    }
   ],
   "source": [
    "import import_ipynb\n",
    "from util import *\n",
    "from util_genetic import *"
   ]
  },
  {
   "cell_type": "markdown",
   "metadata": {},
   "source": [
    "# Paramètres du programme"
   ]
  },
  {
   "cell_type": "code",
   "execution_count": 2,
   "metadata": {},
   "outputs": [],
   "source": [
    "\n",
    "STUDENT_ID = 12007698         # Identifiant de l'étudiant 12021446 12007698\n",
    "NB_PERSONS = 1000             # Nombre d'individus de la population\n",
    "PROBA_MUTATION = 1            # Probabilité de mutation d'un gene\n",
    "PROBA_CROSSOVER = 0.99        # Probabilité de croisement des deux parents\n",
    "PROBA_ADD_GENE = 0.2          # Probabilité d'ajout d'un gene\n",
    "PROBA_REMOVE_GENE = 0.2       # Probabilité de suppression d'un gene\n",
    "ELITISM_RATE = 0.2            # Taux d'élitime : correspond au taux de la population à garder pour la génération suivante (les n meilleurs individus en terme de score)\n",
    "TARGET_SCORE= 0.90            # Seuil du score à partir duquel on arrete le prgramme\n",
    "MAX_GENERATIONS = 10000       # Seuil du nombre d'itération à partir duquelon arrete le programme\n",
    "USED_PROBA = LINEAR_RANK_PROBA      # Type de proba utilisée pour le tirage aléatoire d'un individu LINEAR_RANK_PROBA ou FITNESS_PROBA ou FITNESS2_PROBA\n",
    "\n"
   ]
  },
  {
   "cell_type": "code",
   "execution_count": 3,
   "metadata": {},
   "outputs": [],
   "source": [
    "\n",
    "def run_algogen():\n",
    "    # Initialisation de la population\n",
    "    population = generate_population(NB_PERSONS)\n",
    "    idx_generation = 1\n",
    "    #score = 0\n",
    "    current_max = 0\n",
    "    score_history = []\n",
    "    # Nombre d'individus gardés d'office d'une génération à la suivante (on trie ceux ayant les meilleurs score)\n",
    "    nb_to_keep = int(NB_PERSONS*ELITISM_RATE)\n",
    "    # Nombre d'enfant à générer pour chaque nouvelle génération : population totale - nb d'individus gardés d'office d'une génération à l'autre\n",
    "    nb_children = NB_PERSONS - nb_to_keep\n",
    "\n",
    "\n",
    "    print(\"------ Begin nb_to_keep = \", nb_to_keep , \" nb_children to produce = \" , nb_children)\n",
    "    while idx_generation < MAX_GENERATIONS and 1*current_max < TARGET_SCORE :\n",
    "        # Lancer l'évaluation de toute la population\n",
    "        list_evaluation = evaluate_population(STUDENT_ID, population)\n",
    "         # log de la population\n",
    "        if(idx_generation%100==0):\n",
    "            log_list_evaluation(list_evaluation)\n",
    "        # Max et moyenne des scores\n",
    "        current_max,current_avg = compute_global_score(list_evaluation)\n",
    "        score_history.append((current_max,current_avg))\n",
    "        print(\"generation\", idx_generation ,\"score max:\",current_max, \"score moyen:\",current_avg, len(list_evaluation))\n",
    "\n",
    "        # Ré-initialiser la population\n",
    "        population = []\n",
    "        # Garder ceux qui ont obetnu les meilleurs score (on ne les modifie pas)\n",
    "        # Applicaiton de l'élitisme : on garde dans la population les meilleurs individus qui sont gardé de-facto\n",
    "        best_elts = list_evaluation[:nb_to_keep]\n",
    "        for evaluation in best_elts:\n",
    "            #print(\"first_elts\", toStr(individu), score)\n",
    "            population.append(evaluation['person'])\n",
    "\n",
    "        # Générer les enfants\n",
    "        children = generate_children(list_evaluation, nb_children, PROBA_CROSSOVER, PROBA_MUTATION, PROBA_ADD_GENE, PROBA_REMOVE_GENE, USED_PROBA)\n",
    "        population.extend(children)    \n",
    "        idx_generation+=1\n",
    "    # Individu ayant le meilleur score\n",
    "    theBest = list_evaluation[0]\n",
    "    print(\"Identifiant:\", STUDENT_ID)\n",
    "    print(\"Individu le plus proche:\",  evalToStr(theBest) )\n",
    "    return theBest, score_history\n",
    "\n",
    "\n"
   ]
  },
  {
   "cell_type": "code",
   "execution_count": null,
   "metadata": {
    "scrolled": false
   },
   "outputs": [
    {
     "name": "stdout",
     "output_type": "stream",
     "text": [
      "------ Begin nb_to_keep =  200  nb_children to produce =  800\n",
      "generation 1 score max: 0.635528 score moyen: 0.483005014 1000\n",
      "generation 2 score max: 0.702096 score moyen: 0.511471835 1000\n",
      "generation 3 score max: 0.702096 score moyen: 0.535617037 1000\n",
      "generation 4 score max: 0.702096 score moyen: 0.557751832 1000\n",
      "generation 5 score max: 0.737485 score moyen: 0.572578708 1000\n",
      "generation 6 score max: 0.737485 score moyen: 0.587134828 1000\n",
      "generation 7 score max: 0.7406 score moyen: 0.601207972 1000\n"
     ]
    }
   ],
   "source": [
    "# Execution de l'algorithme générique\n",
    "theBest, score_history =  run_algogen()\n",
    "\n",
    "# Affichage des score max et moyens obtenus à chaque génération\n",
    "display_history(score_history\n",
    "    ,NB_PERSONS,ELITISM_RATE\n",
    "    ,USED_PROBA\n",
    "    ,PROBA_CROSSOVER\n",
    "    ,PROBA_MUTATION\n",
    "    ,PROBA_ADD_GENE\n",
    "    ,PROBA_REMOVE_GENE)\n"
   ]
  },
  {
   "cell_type": "markdown",
   "metadata": {},
   "source": []
  }
 ],
 "metadata": {
  "kernelspec": {
   "display_name": "Python 3",
   "language": "python",
   "name": "python3"
  },
  "language_info": {
   "codemirror_mode": {
    "name": "ipython",
    "version": 3
   },
   "file_extension": ".py",
   "mimetype": "text/x-python",
   "name": "python",
   "nbconvert_exporter": "python",
   "pygments_lexer": "ipython3",
   "version": "3.8.5"
  }
 },
 "nbformat": 4,
 "nbformat_minor": 4
}

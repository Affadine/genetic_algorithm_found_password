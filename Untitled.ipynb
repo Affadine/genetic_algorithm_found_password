{
 "cells": [
  {
   "cell_type": "code",
   "execution_count": 18,
   "metadata": {},
   "outputs": [],
   "source": [
    "import subprocess\n",
    "import itertools\n",
    "import random"
   ]
  },
  {
   "cell_type": "code",
   "execution_count": 13,
   "metadata": {},
   "outputs": [
    {
     "name": "stdout",
     "output_type": "stream",
     "text": [
      "[0.328869, 0.344896]\n"
     ]
    }
   ],
   "source": [
    "STUDENT_ID = 12021446\n",
    "\n",
    "def check(student_id , passwords) :\n",
    "    proc = subprocess.Popen([\"./unlock64\", str(student_id)] + passwords , stdout = subprocess.PIPE)\n",
    "    results = []\n",
    "    while True :\n",
    "        line = proc.stdout.readline()\n",
    "        if not line :\n",
    "            break\n",
    "        results.append(float(str(line).split(\"\\\\t\")[1].split(\"\\\\r\\\\n\")[0]))\n",
    "    return results\n",
    "\n",
    "print(check(STUDENT_ID , [\"PASSWORD\", \"ALGOGEN\"]))"
   ]
  },
  {
   "cell_type": "code",
   "execution_count": null,
   "metadata": {},
   "outputs": [],
   "source": [
    "\n",
    "class individu :\n",
    "    \n",
    "    def __init__(self, genotype):\n",
    "        self.genotype = genotype\n",
    "        self.min_length = 12\n",
    "        self.max_length = 18\n",
    "        \n",
    "        \n",
    "    \n",
    "    \n",
    "        "
   ]
  },
  {
   "cell_type": "code",
   "execution_count": null,
   "metadata": {},
   "outputs": [],
   "source": [
    "def mutation(self, prop_mutee = 1/100, fn_mutation = ..., param_fn_mutation = bruit_gaussien(moy, sigma)):\n",
    "        #liste des toutes les permutations\n",
    "        all_permutations =  list(itertools.permutations(self.genotype))\n",
    "        \n",
    "        #on choisit au hazard une permutation        \n",
    "        self.genotype = list(random.choice(all_permutations))"
   ]
  }
 ],
 "metadata": {
  "kernelspec": {
   "display_name": "Python 3",
   "language": "python",
   "name": "python3"
  },
  "language_info": {
   "codemirror_mode": {
    "name": "ipython",
    "version": 3
   },
   "file_extension": ".py",
   "mimetype": "text/x-python",
   "name": "python",
   "nbconvert_exporter": "python",
   "pygments_lexer": "ipython3",
   "version": "3.8.7"
  }
 },
 "nbformat": 4,
 "nbformat_minor": 4
}
